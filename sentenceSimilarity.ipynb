{
 "cells": [
  {
   "cell_type": "code",
   "execution_count": 1,
   "metadata": {},
   "outputs": [],
   "source": [
    "\n",
    "import re\n",
    "import string\n",
    "from nltk import word_tokenize\n",
    "from nltk.corpus import stopwords\n",
    "from nltk.stem import PorterStemmer\n",
    "from sklearn.feature_extraction.text import CountVectorizer\n",
    "# from sentence_transformers import SentenceTransformer\n",
    "\n",
    "stop_words = stopwords.words('english')"
   ]
  },
  {
   "cell_type": "code",
   "execution_count": 2,
   "metadata": {},
   "outputs": [],
   "source": [
    "# description = [\"It's a 2014 model, too old for me\",\n",
    "# \"Hi, I'm selling my 2014 Toyota Prius.\",\n",
    "# \"It has only 65k miles. \",\n",
    "# \"It has Backup camera, Bluetooth, CD, AUX, Keyless Go.\",\n",
    "# \"There was no engine or transmission damage. \",\n",
    "# \"Very clean inside\",\n",
    "# \"never smoke.\"\n",
    "# \"Well maintained.\",\n",
    "# \"Oil change every 5k miles with synthetic Toyota Original Oil. \",\n",
    "# \"Registered until February 2019. Title on hands. \",\n",
    "# \"It lost its clean title status due to rear bumper hit.\", \n",
    "# \"Small scratch on the right side. \",\n",
    "# \"I'm the second owner and had no any problem with it. \",\n",
    "# \"The car is great, 50+ MPG. \",\n",
    "# \"Will run 100k miles more easily. Call me or better text at any time\"]"
   ]
  },
  {
   "cell_type": "code",
   "execution_count": 3,
   "metadata": {},
   "outputs": [],
   "source": [
    "# model = SentenceTransformer(\"bert-base-nli-mean-tokens\")\n",
    "# sentences_vec = model.encode(description)\n",
    "def count_vector(data):\n",
    "    count_vectorizer = CountVectorizer()\n",
    "    count_vectorizer.fit(data)\n",
    "    vect = count_vectorizer.transform(data)\n",
    "    return vect\n",
    "\n",
    "def remove_number(text):\n",
    "    num = re.compile(r'[-+]?[.\\d]*[\\d]+[:,.\\d]*')\n",
    "    return num.sub(r'NUMBER', text)\n",
    "\n",
    "def text_stemmer(text):\n",
    "    stemmer = PorterStemmer()\n",
    "    text = ' '.join(stemmer.stem(token) for token in word_tokenize(text))\n",
    "    return text\n",
    "\n",
    "def remove_all_punct(text):\n",
    "    table = str.maketrans('','',string.punctuation)\n",
    "    return text.translate(table)\n",
    "\n",
    "def text_tokenize(text):\n",
    "    text = word_tokenize(text)\n",
    "    text = {word for word in text if word not in stop_words}\n",
    "    return text\n",
    "\n",
    "def text_preprocess(text):\n",
    "    text = text.lower()\n",
    "    text = remove_all_punct(text)\n",
    "    # text = remove_number(text)\n",
    "    text = text_stemmer(text)\n",
    "    text = text_tokenize(text)\n",
    "    text = count_vector(text)\n",
    "    print(text)\n",
    "    return text"
   ]
  },
  {
   "cell_type": "code",
   "execution_count": 4,
   "metadata": {},
   "outputs": [],
   "source": [
    "# X = input(\"Enter first string: \").lower()\n",
    "# Y = input(\"Enter second string: \").lower()\n",
    "def cosineSimilarity(input, description):\n",
    "\tinput, description = remove_all_punct(input), remove_all_punct(description)\n",
    "\tinput, description = text_stemmer(input), text_stemmer(description)\n",
    "\tinput, description = text_tokenize(input), text_tokenize(description)\n",
    "\n",
    "\tl1 = []\n",
    "\tl2 = []\n",
    "\t# form a set containing keywords of both strings\n",
    "\trvector = input.union(description)\n",
    "\tfor w in rvector:\n",
    "\t\tif w in input: l1.append(1) # create a vector\n",
    "\t\telse: l1.append(0)\n",
    "\t\tif w in description: l2.append(1)\n",
    "\t\telse: l2.append(0)\n",
    "\tc = 0\n",
    "\n",
    "\t# cosine formula\n",
    "\tfor i in range(len(rvector)):\n",
    "\t\t\tc+= l1[i]*l2[i]\n",
    "\tcosine = c / float((sum(l1)*sum(l2))**0.5)\n",
    "\tprint(\"similarity: \", cosine)"
   ]
  },
  {
   "cell_type": "code",
   "execution_count": 35,
   "metadata": {},
   "outputs": [],
   "source": [
    "input =\"Falstaff is a comic opera in three acts by the Italian composer Giuseppe Verdi. The Italian-language libretto was adapted by Arrigo Boito from the play The Merry Wives of Windsor and scenes from Henry IV, Part 1 and Part 2 by William Shakespeare. The work premiered on 9 February 1893 at La Scala in Milan. The last of Verdi's twenty-eight operas, the opera's plot revolves around the thwarted, sometimes farcical, efforts of the fat knight Sir John Falstaff to seduce two married women to gain access to their husbands' wealth. This photograph shows the Italian baritone Ambrogio Maestri playing the title role in a 2016 production of Falstaff at the Vienna State Opera.Apollo 5 was the uncrewed first flight of the Apollo Lunar Module (LM), which would later carry astronauts to the lunar surface. The liftoff of the Saturn IB rocket bearing LM-1 (pictured), the first LM, from Cape Kennedy followed long delays, due in part to setbacks in development of the LM at Grumman, the manufacturer. The original rocket was taken down during the delays and replaced with the one atop which the Apollo 1 fire that killed three astronauts had taken place. LM-1 arrived at the Kennedy Space Center in June 1967; the following months were occupied in testing. \".lower()\n",
    "description =\"Hi, I'm selling my 2014 Toyota Prius. It has only 65k miles. Bluetooth, CD, AUX, Keyless Go. There was no engine or transmission damage. Very clean inside, never smoke. Well maintained. Oil change every 5k miles with synthetic Toyota Original Oil. Registered until February 2019. Title on hands. It lost its clean title status due to rear bumper hit. Small scratch on the right side. I'm the second owner and had no any problem with it. The car is great, 50+ MPG. Will run 100k miles more easily. Call me or better text at any time\".lower()\n"
   ]
  },
  {
   "cell_type": "code",
   "execution_count": 36,
   "metadata": {},
   "outputs": [
    {
     "name": "stdout",
     "output_type": "stream",
     "text": [
      "similarity:  0.058958328829572276\n"
     ]
    }
   ],
   "source": [
    "cosineSimilarity(input, description)"
   ]
  }
 ],
 "metadata": {
  "interpreter": {
   "hash": "5a0abec15e4fb4cfa094c15e2c94b64d68358a12f71cdd1f46d2cd763cfd2a99"
  },
  "kernelspec": {
   "display_name": "Python 3.8.8 ('base')",
   "language": "python",
   "name": "python3"
  },
  "language_info": {
   "codemirror_mode": {
    "name": "ipython",
    "version": 3
   },
   "file_extension": ".py",
   "mimetype": "text/x-python",
   "name": "python",
   "nbconvert_exporter": "python",
   "pygments_lexer": "ipython3",
   "version": "3.8.8"
  },
  "orig_nbformat": 4
 },
 "nbformat": 4,
 "nbformat_minor": 2
}
