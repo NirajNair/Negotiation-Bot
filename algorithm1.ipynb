{
 "cells": [
  {
   "cell_type": "code",
   "execution_count": 3,
   "metadata": {},
   "outputs": [],
   "source": [
    "import re\n",
    "import ic_model \n",
    "import pp_model\n",
    "import pandas as pd\n",
    "import numpy as np\n",
    "from pathlib import Path\n",
    "from datasets import load_dataset\n",
    "# import nltk\n",
    "# nltk.download('punkt')\n",
    "pd.set_option('display.max_colwidth', 1000)"
   ]
  },
  {
   "cell_type": "code",
   "execution_count": 4,
   "metadata": {},
   "outputs": [
    {
     "name": "stderr",
     "output_type": "stream",
     "text": [
      "Using custom data configuration default\n",
      "Reusing dataset craigslist_bargains (/Users/kabirbatra/.cache/huggingface/datasets/craigslist_bargains/default/1.1.0/9e4e64d13ea36e435a8f56f9305d3c771115909b7fe83269bf7cd8dd40302338)\n"
     ]
    }
   ],
   "source": [
    "test_ds = load_dataset('craigslist_bargains', split= 'validation')\n",
    "test_ds = pd.DataFrame(test_ds)\n",
    "test_ds.rename(columns={'utterance':'bargain_convo','dialogue_acts':'intent'}, inplace=True)\n",
    "test_ds = test_ds.loc[6,:]"
   ]
  },
  {
   "cell_type": "code",
   "execution_count": 5,
   "metadata": {},
   "outputs": [
    {
     "data": {
      "text/plain": [
       "agent_info                                                                                                                                                                                                                                                                                                                                                                                                                                                                                                                                                                                                                                 {'Bottomline': ['None', 'None'], 'Role': ['buyer', 'seller'], 'Target': [38.0, 50.0]}\n",
       "agent_turn                                                                                                                                                                                                                                                                                                                                                                                                                                                                                                                                                                                                                                                                            [0, 1, 0, 1, 0, 1, 0, 1, 0, 1, 0, 1, 1, 0]\n",
       "intent                                                                                                                                                                                                                                                                                                                                                                                                                                        {'intent': ['intro', 'unknown', 'init-price', 'counter-price', 'inquiry', 'inform', 'counter-price', 'counter-price', 'inquiry', 'inform', 'insist', 'unknown', 'offer', 'accept'], 'price': [-1.0, -1.0, 30.0, 80.0, -1.0, -1.0, 38.0, 40.0, -1.0, -1.0, 38.0, -1.0, 38.0, -1.0]}\n",
       "bargain_convo    [Who is the manufacturer?, Its Tom and Associates. They're pretty neat and good at their work !, Oh, Ive own a piece from them in the past, it only lasted 5 years. Would you take $30?, That's very low for me. I got the item for $80. The couch is very comfortable and in a very good condition. The item has very strong woods that last for years. , How old is it?, Only one year old, All I have on me right now is $38, if you'd accept that, I can pick it up in under an hour., Lets make it $40 and I will offer to deliver it to you?, When can you deliver it?, By tomorrow and I accept cash only, I won't be around tomorrow. But I can come right now if you'll take $38, okay then deal!, , ]\n",
       "items                                                                                                                                                                                                                      {'Category': ['furniture', 'furniture'], 'Images': ['', ''], 'Price': [50.0, 50.0], 'Description': ['Very comfy floral couch in excellent condition. Practically like new with no stains or rips. In a smoke free house. Cash only you pick up and haul.', 'Very comfy floral couch in excellent condition. Practically like new with no stains or rips. In a smoke free house. Cash only you pick up and haul.'], 'Title': ['Very comfy well maintained couch', 'Very comfy well maintained couch']}\n",
       "Name: 6, dtype: object"
      ]
     },
     "execution_count": 5,
     "metadata": {},
     "output_type": "execute_result"
    }
   ],
   "source": [
    "test_ds"
   ]
  },
  {
   "cell_type": "code",
   "execution_count": 7,
   "metadata": {},
   "outputs": [],
   "source": [
    "def priceExtraction(value):\n",
    "    #searching for price-value or price-range in user input text string\n",
    "    price = list(map(int, re.findall('(\\$\\d+)(\\-*\\d*)', value)))\n",
    "    if price:\n",
    "        return price[0][0][1:], price[0][1][1:] if price[0][1]!='' else 0\n",
    "    else:\n",
    "        return 0\n",
    "\n",
    "def getBuyerIntent():\n",
    "    intent_timeline = np.load('intent_timeline.npy')\n",
    "    buyers_intent = [x[0] for x in intent_timeline]\n",
    "    return buyers_intent\n",
    "\n",
    "def saveIntentIntoTimeline(data):\n",
    "    #saving current buyer's and bot's intent and bids in file intent_timeline.npy\n",
    "    intent_timeline = np.load('intent_timeline.npy')\n",
    "    new_timeline = np.append(intent_timeline, [data], axis=0)\n",
    "    np.save('intent_timeline.npy', new_timeline)\n",
    "    print('current intents saved in intent_timeline', new_timeline)"
   ]
  },
  {
   "cell_type": "code",
   "execution_count": 8,
   "metadata": {},
   "outputs": [],
   "source": [
    "def Intentagree(buyer_bid):\n",
    "    #once the deal is done, reseting previous intents of ongoing conversation\n",
    "    reset_timeline()\n",
    "    return 'agree'\n",
    "\n",
    "def Intentintro(buyer_bid):\n",
    "    saveIntentIntoTimeline(['intro',buyer_bid,'intro',buyer_bid])\n",
    "    return 'intro'\n",
    "\n",
    "def Intentinitprice(buyer_bid):\n",
    "    bod_bid = 0 #yet to perform price prediction\n",
    "    saveIntentIntoTimeline(['init-price',buyer_bid,'init-price',bod_bid])\n",
    "    return 'init-price'\n",
    "\n",
    "def Intentcounterprice(buyer_bid):\n",
    "    discount = pp_model.max_discount_predict(getBuyerIntent())\n",
    "    bod_bid = \n",
    "    saveIntentIntoTimeline(['counter-price',buyer_bid,'counter-price',bod_bid])\n",
    "    return 'counter-price'    "
   ]
  },
  {
   "cell_type": "code",
   "execution_count": 9,
   "metadata": {},
   "outputs": [],
   "source": [
    "def reset_timeline():\n",
    "    intent_timeline = np.array([['buyer_intent','buyer_bid','bot_intent','bot_bid']])\n",
    "    np.save('intent_timeline.npy', intent_timeline)\n",
    "\n",
    "def decisionEngine(text):\n",
    "    #function call for intentClassification from file ic_model.py\n",
    "    buyer_intent = ic_model.predict_intent(text)\n",
    "    buyer_intent = 'counterprice' if buyer_intent == 'counter-price' else buyer_intent\n",
    "    buyer_intent = 'initprice' if buyer_intent == 'init-price' else buyer_intent\n",
    "\n",
    "    #fetching discret price-range or buyers-bid from the user-input text i.e (rangeMin,rangeMax) or (singleValue,0) \n",
    "    #e.g.(100,200), (100,0) \n",
    "    buyers_bid = priceExtraction(text)\n",
    "    \n",
    "    #calling distint functions according to the buyer_intent\n",
    "    return eval(\"Intent\" + str(buyer_intent) + \"({})\".format(buyers_bid))"
   ]
  },
  {
   "cell_type": "code",
   "execution_count": 13,
   "metadata": {},
   "outputs": [
    {
     "name": "stdout",
     "output_type": "stream",
     "text": [
      "[3747]\n",
      "intro\n",
      "current intents saved in intent_timeline [['buyers_intent' 'buyers_bid' 'bots_intent' 'bots_bid']\n",
      " ['intro' '0' 'intro' '0']]\n"
     ]
    },
    {
     "data": {
      "text/plain": [
       "'intro'"
      ]
     },
     "execution_count": 13,
     "metadata": {},
     "output_type": "execute_result"
    }
   ],
   "source": [
    "decisionEngine(\"hey, how you doing?\")"
   ]
  }
 ],
 "metadata": {
  "interpreter": {
   "hash": "30326061de640313b16f1c2b9b63d2a15630a3c5e7cebec4d516c4b3adf1e1c7"
  },
  "kernelspec": {
   "display_name": "Python 3.8.8 64-bit ('base': conda)",
   "name": "python3"
  },
  "language_info": {
   "codemirror_mode": {
    "name": "ipython",
    "version": 3
   },
   "file_extension": ".py",
   "mimetype": "text/x-python",
   "name": "python",
   "nbconvert_exporter": "python",
   "pygments_lexer": "ipython3",
   "version": "3.8.8"
  },
  "orig_nbformat": 4
 },
 "nbformat": 4,
 "nbformat_minor": 2
}
