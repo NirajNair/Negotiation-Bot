{
 "cells": [
  {
   "cell_type": "code",
   "execution_count": 1,
   "metadata": {},
   "outputs": [
    {
     "name": "stderr",
     "output_type": "stream",
     "text": [
      "Using custom data configuration default\n",
      "Reusing dataset craigslist_bargains (/Users/kabirbatra/.cache/huggingface/datasets/craigslist_bargains/default/1.1.0/9e4e64d13ea36e435a8f56f9305d3c771115909b7fe83269bf7cd8dd40302338)\n"
     ]
    }
   ],
   "source": [
    "import algorithm\n",
    "import numpy as np\n",
    "import pandas as pd\n",
    "import random"
   ]
  },
  {
   "cell_type": "code",
   "execution_count": 2,
   "metadata": {},
   "outputs": [],
   "source": [
    "def set_price_limit(upperLimit, lowerLimit):\n",
    "    price_limit = np.array([upperLimit,lowerLimit])\n",
    "    np.save('price_limit.npy', price_limit)\n",
    "\n",
    "def print_price_limit():\n",
    "    price_limit = np.load('price_limit.npy')\n",
    "    print(\"upperLimit:\", price_limit[0],\"lowerLimit:\", price_limit[1])\n",
    "\n",
    "def set_timeline():\n",
    "    buyer_timeline = np.array([['buyer_intent','buyer_bid']])\n",
    "    np.save('buyer_timeline.npy', buyer_timeline)\n",
    "\n",
    "    bot_timeline = np.array([['bot_intent','bot_bid']])\n",
    "    np.save('bot_timeline.npy', bot_timeline)"
   ]
  },
  {
   "cell_type": "code",
   "execution_count": 3,
   "metadata": {},
   "outputs": [],
   "source": [
    "set_timeline()\n",
    "set_price_limit(500, 430)"
   ]
  },
  {
   "cell_type": "code",
   "execution_count": 4,
   "metadata": {},
   "outputs": [
    {
     "name": "stdout",
     "output_type": "stream",
     "text": [
      "upperLimit: 500 lowerLimit: 470\n"
     ]
    }
   ],
   "source": [
    "print_price_limit()"
   ]
  },
  {
   "cell_type": "code",
   "execution_count": 5,
   "metadata": {},
   "outputs": [],
   "source": [
    "intro = [\n",
    "\"Hey There fellow Negotiator, let's get Negotiating.\", \n",
    "\"!£%₹¥ $25...beep boop OH HEY THERE!..sorry.. how can i help?\",\n",
    "\"Good Day! Getting an itch to spend some bucks today?\",\n",
    "\"Hola, Its the almighty negotiation bot.\",\n",
    "\"Hey! Let me help you get what you want.. or can I?\",\n",
    "\"It's a tough bargain being a negotiation bot, anyways what can i do for you today?\",\n",
    "\"Hi There, yes im the negotiation bot they've been talking about, how can i help?\",\n",
    "\"Namaste! hope you've been doing great!\",\n",
    "\"Bonjour! pleasure meeting you today.\",\n",
    "\"Hello, hope we both settle on a good price today.\"\n",
    "]\n",
    "\n",
    "inquiry = \"Very comfy floral couch in excellent condition. Practically like new with no stains or rips. In a smoke free house. Cash only you pick up and haul.', 'Very comfy floral couch in excellent condition. Practically like new with no stains or rips. In a smoke free house. Only for $500, Cash only you pick up and haul.\"\n",
    "\n",
    "counterprice = [\n",
    "\"My boss would fire me if I went that low.. how about {}.\",\n",
    "\"Umm no. let's settle on {}.\", \n",
    "\"Best I can do is {}.\",\n",
    "\"Your offer sounds low, I've got something better, let's do {}.\",\n",
    "\"Let's end it at {}, it's best for both of us.\",\n",
    "\"Let's meet somewhere in the middle at {}.\",\n",
    "\"You're a tough one, but so am I.. {} is my offer.\",\n",
    "\"Ahhh I've had a rough day, let's make it quick {} sounds awesome.\",\n",
    "\"I've got a family to take care of let's do {}.\",\n",
    "\"I've an offer no one would have given you {}.\" \n",
    "]\n",
    "\n",
    "agree = [\n",
    "\"{} sounds good, Glad you made the right decision.\",\n",
    "\"{} sounds good, I've got another offer, a virtual hand shake.\",\n",
    "\"{} sounds good, Pleasure doing business with you!\",\n",
    "\"{} sounds good, phew, That was an intimidating negotiation. Cheers!\",\n",
    "\"{} sounds good, Glad we could reach to a consensus, enjoy your product.\",\n",
    "\"{} sounds good, You made the right call, you wont regret.\",\n",
    "\"{} sounds good, Good negotiating, Celebrate your victory.\",\n",
    "\"{} sounds good, Finally i can take some rest!\",\n",
    "\"{} sounds good, Trust me you got this at the best possible price.\",\n",
    "\"{} sounds good, We've got a deal, some of my favourite words.\"\n",
    "]\n",
    "\n",
    "deal = [\n",
    "\"Glad you made the right decision.\",\n",
    "\"I've got another offer, a virtual hand shake.\",\n",
    "\"Pleasure doing business with you!\",\n",
    "\"phew, That was an intimidating negotiation. Cheers!\",\n",
    "\"Glad we could reach to a consensus, enjoy your product.\",\n",
    "\"You made the right call, you wont regret.\",\n",
    "\"Good negotiating, Celebrate your victory.\",\n",
    "\"Finally i can take some rest!\",\n",
    "\"Trust me you got this at the best possible price.\",\n",
    "\"We've got a deal, some of my favourite words.\"\n",
    "]\n",
    "\n",
    "nodeal = [\n",
    "\"Sorry we couldn't reach to an agreement.\",\n",
    "\"Really wished we could reach to a consensus, maybe next time!\",\n",
    "\"It's alright, if not today maybe tomorrow.\",\n",
    "\"We both desire differently, sorry the deal couldn't be made.\",\n",
    "\"We both lie on two extreme poles, but its okay.\",\n",
    "\"We clearly lie on two different pages, sorry the deal can't be made.\",\n",
    "\"No Deal! Good luck though.\",\n",
    "\"Thought i was gonna sell this, maybe i was wrong\", \n",
    "\"Maybe this product isn't destined for you.\",\n",
    "\"Offered the best price, really couldn't go any lower.\",\n",
    "]\n",
    "\n",
    "def response(text):\n",
    "    intent, bid = algorithm.decisionEngine(text)\n",
    "    if intent == 'intro':\n",
    "        return intro[random.randrange(0,len(intro))]\n",
    "    elif intent == 'counter-price' or intent == 'init-price':\n",
    "        return counterprice[random.randrange(0,len(counterprice))].format(bid)\n",
    "    elif intent == 'inquiry':\n",
    "        return inquiry\n",
    "    elif intent == 'agree':\n",
    "        return agree[random.randrange(0,len(intro))].format(bid)\n",
    "    elif intent == 'deal':\n",
    "        return deal[random.randrange(0,len(intro))]\n",
    "    elif intent == 'disagree':\n",
    "        return nodeal[random.randrange(0,len(intro))]\n",
    "    elif intent == 'unknown':\n",
    "        return \"Sorry didn't get you there, can you please rephrase.\"\n",
    "        "
   ]
  },
  {
   "cell_type": "code",
   "execution_count": 13,
   "metadata": {},
   "outputs": [
    {
     "name": "stdout",
     "output_type": "stream",
     "text": [
      "[1579]\n",
      "agree\n"
     ]
    },
    {
     "data": {
      "text/plain": [
       "'470.00000000000006 sounds good, Good negotiating, Celebrate your victory.'"
      ]
     },
     "execution_count": 13,
     "metadata": {},
     "output_type": "execute_result"
    }
   ],
   "source": [
    "response(\"deal\")"
   ]
  }
 ],
 "metadata": {
  "interpreter": {
   "hash": "5a0abec15e4fb4cfa094c15e2c94b64d68358a12f71cdd1f46d2cd763cfd2a99"
  },
  "kernelspec": {
   "display_name": "Python 3.8.8 64-bit ('base': conda)",
   "language": "python",
   "name": "python3"
  },
  "language_info": {
   "codemirror_mode": {
    "name": "ipython",
    "version": 3
   },
   "file_extension": ".py",
   "mimetype": "text/x-python",
   "name": "python",
   "nbconvert_exporter": "python",
   "pygments_lexer": "ipython3",
   "version": "3.8.8"
  },
  "orig_nbformat": 4
 },
 "nbformat": 4,
 "nbformat_minor": 2
}
