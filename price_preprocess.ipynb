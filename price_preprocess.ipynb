{
 "cells": [
  {
   "cell_type": "code",
   "execution_count": 32,
   "source": [
    "import re\n",
    "import numpy as np\n",
    "import pandas as pd\n",
    "from datasets import load_dataset\n",
    "pd.set_option('display.max_colwidth', 1000)"
   ],
   "outputs": [],
   "metadata": {}
  },
  {
   "cell_type": "code",
   "execution_count": 33,
   "source": [
    "discount = pd.DataFrame(columns=['prev_intent3','prev_intent2','prev_intent1','discount%'])\n",
    "discount"
   ],
   "outputs": [
    {
     "output_type": "execute_result",
     "data": {
      "text/html": [
       "<div>\n",
       "<style scoped>\n",
       "    .dataframe tbody tr th:only-of-type {\n",
       "        vertical-align: middle;\n",
       "    }\n",
       "\n",
       "    .dataframe tbody tr th {\n",
       "        vertical-align: top;\n",
       "    }\n",
       "\n",
       "    .dataframe thead th {\n",
       "        text-align: right;\n",
       "    }\n",
       "</style>\n",
       "<table border=\"1\" class=\"dataframe\">\n",
       "  <thead>\n",
       "    <tr style=\"text-align: right;\">\n",
       "      <th></th>\n",
       "      <th>prev_intent3</th>\n",
       "      <th>prev_intent2</th>\n",
       "      <th>prev_intent1</th>\n",
       "      <th>discount%</th>\n",
       "    </tr>\n",
       "  </thead>\n",
       "  <tbody>\n",
       "  </tbody>\n",
       "</table>\n",
       "</div>"
      ],
      "text/plain": [
       "Empty DataFrame\n",
       "Columns: [prev_intent3, prev_intent2, prev_intent1, discount%]\n",
       "Index: []"
      ]
     },
     "metadata": {},
     "execution_count": 33
    }
   ],
   "metadata": {}
  },
  {
   "cell_type": "code",
   "execution_count": 34,
   "source": [
    "intents = ['intro','inquiry','init-price','counter-price','disagree']"
   ],
   "outputs": [],
   "metadata": {}
  },
  {
   "cell_type": "code",
   "execution_count": 35,
   "source": [
    "SingleIntents = ['init-price','intro','inquiry']\n",
    "\n",
    "for i in intents:\n",
    "    for j in intents:\n",
    "        for k in intents:\n",
    "            arr = [i,j,k]\n",
    "            if arr.count('init-price') < 2 and arr.count('intro') < 2:\n",
    "                discount = discount.append({'prev_intent3': i, 'prev_intent2': j, 'prev_intent1': k}, ignore_index=True)"
   ],
   "outputs": [],
   "metadata": {}
  },
  {
   "cell_type": "code",
   "execution_count": 36,
   "source": [
    "test_ds = load_dataset('craigslist_bargains', split= 'validation')\n",
    "test_ds = pd.DataFrame(test_ds)\n",
    "test_ds.rename(columns={'utterance':'bargain_convo','dialogue_acts':'intent'}, inplace=True)"
   ],
   "outputs": [
    {
     "output_type": "stream",
     "name": "stderr",
     "text": [
      "Using custom data configuration default\n",
      "Reusing dataset craigslist_bargains (/Users/kabirbatra/.cache/huggingface/datasets/craigslist_bargains/default/1.1.0/9e4e64d13ea36e435a8f56f9305d3c771115909b7fe83269bf7cd8dd40302338)\n"
     ]
    }
   ],
   "metadata": {}
  },
  {
   "cell_type": "code",
   "execution_count": 37,
   "source": [
    "test_ds = test_ds[['intent','agent_turn','agent_info']]"
   ],
   "outputs": [],
   "metadata": {}
  },
  {
   "cell_type": "code",
   "execution_count": 38,
   "source": [
    "def priceExtraction(value):\n",
    "    #searching for price-value or price-range in user input text string\n",
    "    price = list(map(int, re.findall('(\\$\\d+)(\\-*\\d*)', value)))\n",
    "    if price:\n",
    "        return price[0][0][1:], price[0][1][1:] if price[0][1]!='' else 0\n",
    "    else:\n",
    "        return 0"
   ],
   "outputs": [],
   "metadata": {}
  }
 ],
 "metadata": {
  "orig_nbformat": 4,
  "language_info": {
   "name": "python",
   "version": "3.8.8",
   "mimetype": "text/x-python",
   "codemirror_mode": {
    "name": "ipython",
    "version": 3
   },
   "pygments_lexer": "ipython3",
   "nbconvert_exporter": "python",
   "file_extension": ".py"
  },
  "kernelspec": {
   "name": "python3",
   "display_name": "Python 3.8.8 64-bit ('base': conda)"
  },
  "interpreter": {
   "hash": "30326061de640313b16f1c2b9b63d2a15630a3c5e7cebec4d516c4b3adf1e1c7"
  }
 },
 "nbformat": 4,
 "nbformat_minor": 2
}