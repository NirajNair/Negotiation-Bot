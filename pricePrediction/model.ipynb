{
 "cells": [
  {
   "cell_type": "code",
   "execution_count": 14,
   "metadata": {},
   "outputs": [],
   "source": [
    "import os\n",
    "import pickle\n",
    "import numpy as np\n",
    "import pandas as pd\n",
    "import matplotlib.pyplot as plt\n",
    "import seaborn as sns\n",
    "from sklearn.tree import DecisionTreeClassifier"
   ]
  },
  {
   "cell_type": "code",
   "execution_count": 15,
   "metadata": {},
   "outputs": [
    {
     "data": {
      "text/html": [
       "<div>\n",
       "<style scoped>\n",
       "    .dataframe tbody tr th:only-of-type {\n",
       "        vertical-align: middle;\n",
       "    }\n",
       "\n",
       "    .dataframe tbody tr th {\n",
       "        vertical-align: top;\n",
       "    }\n",
       "\n",
       "    .dataframe thead th {\n",
       "        text-align: right;\n",
       "    }\n",
       "</style>\n",
       "<table border=\"1\" class=\"dataframe\">\n",
       "  <thead>\n",
       "    <tr style=\"text-align: right;\">\n",
       "      <th></th>\n",
       "      <th>discount%</th>\n",
       "    </tr>\n",
       "  </thead>\n",
       "  <tbody>\n",
       "    <tr>\n",
       "      <th>0</th>\n",
       "      <td>30</td>\n",
       "    </tr>\n",
       "    <tr>\n",
       "      <th>1</th>\n",
       "      <td>25</td>\n",
       "    </tr>\n",
       "    <tr>\n",
       "      <th>2</th>\n",
       "      <td>17</td>\n",
       "    </tr>\n",
       "    <tr>\n",
       "      <th>3</th>\n",
       "      <td>10</td>\n",
       "    </tr>\n",
       "    <tr>\n",
       "      <th>4</th>\n",
       "      <td>5</td>\n",
       "    </tr>\n",
       "    <tr>\n",
       "      <th>...</th>\n",
       "      <td>...</td>\n",
       "    </tr>\n",
       "    <tr>\n",
       "      <th>2740</th>\n",
       "      <td>22</td>\n",
       "    </tr>\n",
       "    <tr>\n",
       "      <th>2741</th>\n",
       "      <td>24</td>\n",
       "    </tr>\n",
       "    <tr>\n",
       "      <th>2742</th>\n",
       "      <td>28</td>\n",
       "    </tr>\n",
       "    <tr>\n",
       "      <th>2743</th>\n",
       "      <td>13</td>\n",
       "    </tr>\n",
       "    <tr>\n",
       "      <th>2744</th>\n",
       "      <td>11</td>\n",
       "    </tr>\n",
       "  </tbody>\n",
       "</table>\n",
       "<p>2745 rows × 1 columns</p>\n",
       "</div>"
      ],
      "text/plain": [
       "      discount%\n",
       "0            30\n",
       "1            25\n",
       "2            17\n",
       "3            10\n",
       "4             5\n",
       "...         ...\n",
       "2740         22\n",
       "2741         24\n",
       "2742         28\n",
       "2743         13\n",
       "2744         11\n",
       "\n",
       "[2745 rows x 1 columns]"
      ]
     },
     "execution_count": 15,
     "metadata": {},
     "output_type": "execute_result"
    }
   ],
   "source": [
    "X = pd.read_csv('intent_matrix.csv')\n",
    "X = X.drop(columns=['Unnamed: 0'])\n",
    "\n",
    "y = pd.read_csv('discount_labels.csv')\n",
    "y = y.drop(columns=['Unnamed: 0'])\n",
    "\n",
    "X = X.iloc[:,0:13]\n",
    "y"
   ]
  },
  {
   "cell_type": "code",
   "execution_count": 16,
   "metadata": {},
   "outputs": [],
   "source": [
    "# encoding categorical data\n",
    "intent_map = { 0: np.NaN,\n",
    "               1:'intro',\n",
    "               2:'vague-price',\n",
    "               3:'init-price', \n",
    "               4:'counter-price', \n",
    "               5:'agree', \n",
    "               6:'inquiry', \n",
    "               7:'disagree', \n",
    "               8:'insist',\n",
    "}\n",
    "             \n",
    "for v in intent_map:\n",
    "    X = X.replace(to_replace=intent_map[v], value=v)"
   ]
  },
  {
   "cell_type": "code",
   "execution_count": 17,
   "metadata": {},
   "outputs": [],
   "source": [
    "def categorizeDiscounts(x):\n",
    "    if len(x) == 2:\n",
    "        if x[-1] >= '1' and x[-1] <= '5':\n",
    "            return int(x[0] + '0')\n",
    "        elif x[-1] >= '0':\n",
    "            return int(x[0] + '5')\n",
    "    else:\n",
    "        if x > '5':\n",
    "            return 10\n",
    "        else:\n",
    "            return 5\n",
    "\n",
    "# y['discount_labels'] = y['discount%'].apply(lambda x: categorizeDiscounts(str(x)))\n",
    "# y"
   ]
  },
  {
   "cell_type": "code",
   "execution_count": 18,
   "metadata": {},
   "outputs": [
    {
     "name": "stderr",
     "output_type": "stream",
     "text": [
      "/Users/kabirbatra/opt/anaconda3/lib/python3.8/site-packages/seaborn/_decorators.py:36: FutureWarning: Pass the following variable as a keyword arg: x. From version 0.12, the only valid positional argument will be `data`, and passing other arguments without an explicit keyword will result in an error or misinterpretation.\n",
      "  warnings.warn(\n"
     ]
    },
    {
     "data": {
      "image/png": "[encoded data removed]",
      "text/plain": [
       "<Figure size 1440x360 with 2 Axes>"
      ]
     },
     "metadata": {
      "needs_background": "light"
     },
     "output_type": "display_data"
    }
   ],
   "source": [
    "fig, ax =  plt.subplots(1, 2, figsize = (20,5), sharey=True)\n",
    "\n",
    "sns.countplot(y['discount%'], ax=ax[0])\n",
    "# sns.countplot(y['discount_labels'], ax=ax[1])\n",
    "\n",
    "plt.show()\n",
    "\n",
    "# plt.figure(figsize=(8,6))\n",
    "# sns.countplot(x='discount_labels', data=y)\n",
    "\n",
    "# plt.figure(figsize=(8,6))\n",
    "# sns.countplot(x='discount%', data=y)"
   ]
  },
  {
   "cell_type": "code",
   "execution_count": 19,
   "metadata": {},
   "outputs": [],
   "source": [
    "#training classification model and saving it using pickle in pp_model.pkl\n",
    "# classifier = DecisionTreeClassifier(criterion='entropy',max_depth=30, random_state=42)\n",
    "# classifier.fit(X, y['discount_labels'])\n",
    "\n",
    "# with open('model.pkl', 'wb') as files:\n",
    "#     pickle.dump(classifier, files)"
   ]
  },
  {
   "cell_type": "code",
   "execution_count": 20,
   "metadata": {},
   "outputs": [],
   "source": [
    "#loading previously trained model if any\n",
    "MODEL_FILE_NAME = 'pp_model.pkl'\n",
    "\n",
    "if os.path.exists(MODEL_FILE_NAME):\n",
    "    with open(MODEL_FILE_NAME , 'rb') as f:\n",
    "        classifier = pickle.load(f)\n",
    "else:\n",
    "    classifier = DecisionTreeClassifier(criterion='entropy',max_depth=30, random_state=42)\n",
    "    classifier.fit(X, y['discount_labels'])\n",
    "\n",
    "    with open(MODEL_FILE_NAME , 'wb') as files:\n",
    "        pickle.dump(classifier, files)"
   ]
  },
  {
   "cell_type": "code",
   "execution_count": 22,
   "metadata": {},
   "outputs": [
    {
     "data": {
      "text/plain": [
       "0.04954462659380692"
      ]
     },
     "execution_count": 22,
     "metadata": {},
     "output_type": "execute_result"
    }
   ],
   "source": [
    "y_pred = classifier.predict(X)\n",
    "\n",
    "from sklearn import metrics\n",
    "from sklearn.metrics import confusion_matrix, classification_report\n",
    "\n",
    "accuracy = metrics.accuracy_score(y['discount%'], y_pred)\n",
    "# accuracy = metrics.accuracy_score(y['discount_labels'], y_pred)\n",
    "accuracy"
   ]
  },
  {
   "cell_type": "code",
   "execution_count": 23,
   "metadata": {},
   "outputs": [
    {
     "data": {
      "text/plain": [
       "array([25])"
      ]
     },
     "execution_count": 23,
     "metadata": {},
     "output_type": "execute_result"
    }
   ],
   "source": [
    "classifier.predict([[1,2,7,7,4,4,7,4,7,7,4,0,0]])"
   ]
  }
 ],
 "metadata": {
  "interpreter": {
   "hash": "30326061de640313b16f1c2b9b63d2a15630a3c5e7cebec4d516c4b3adf1e1c7"
  },
  "kernelspec": {
   "display_name": "Python 3.8.8 64-bit ('base': conda)",
   "name": "python3"
  },
  "language_info": {
   "codemirror_mode": {
    "name": "ipython",
    "version": 3
   },
   "file_extension": ".py",
   "mimetype": "text/x-python",
   "name": "python",
   "nbconvert_exporter": "python",
   "pygments_lexer": "ipython3",
   "version": "3.8.8"
  },
  "orig_nbformat": 4
 },
 "nbformat": 4,
 "nbformat_minor": 2
}
